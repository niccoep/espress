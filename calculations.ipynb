{
 "cells": [
  {
   "cell_type": "code",
   "execution_count": 10,
   "metadata": {},
   "outputs": [],
   "source": [
    "import numpy as np"
   ]
  },
  {
   "attachments": {},
   "cell_type": "markdown",
   "metadata": {},
   "source": [
    "All calculations are done in SI (Newtons, Meters, Pascals). I'm also assuming 100% efficiency for the ball screw torque to linear force conversion but in reality it might be around ~90% efficiency. So we will need some overhead on the motor torque.\n",
    "\n",
    "T = torque applied to bearing in Nm\n",
    "\n",
    "D = diamater of screw\n",
    "\n",
    "\n",
    "\n",
    "    T = F1*D/2\n",
    "\n",
    "    => F1 = 2T/D\n",
    "\n",
    "    F2/F1 = Pi*D/L\n",
    "\n",
    "    L = lead (distance per revolution)\n",
    "\n",
    "    => F2 = F1*Pi*D/L\n",
    "    \n",
    "    F2 = (2T/D)*Pi*D/L\n",
    "\n",
    "    F2 = 2T*Pi/L\n",
    "    \n"
   ]
  },
  {
   "attachments": {},
   "cell_type": "markdown",
   "metadata": {},
   "source": [
    "[Source](https://www.kollmorgen.com/en-us/developer-network/calculating-linear-force-and-torque-ballscrew/)\n",
    "\n",
    "![ballscrew](ballscrew.png)"
   ]
  },
  {
   "cell_type": "code",
   "execution_count": 11,
   "metadata": {},
   "outputs": [
    {
     "name": "stdout",
     "output_type": "stream",
     "text": [
      "F1: 50.000 N\n",
      "F2: 502.655 N\n"
     ]
    }
   ],
   "source": [
    "D = .016 #16mm\n",
    "L = .005 #5mm\n",
    "T = .40 #40Ncm .40Nm\n",
    "\n",
    "F1 = 2*T/D\n",
    "\n",
    "F2 = 2*T*np.pi/(L)\n",
    "print(\"F1: %.3f N\" % (F1))\n",
    "print(\"F2: %.3f N\" % (F2))"
   ]
  },
  {
   "attachments": {},
   "cell_type": "markdown",
   "metadata": {},
   "source": [
    "With F2 we can find the max area of the cylinder while still producing at leas 10 bar\n",
    "\n",
    "    Force = Pressure/Area\n",
    "\n",
    "    A = F/P\n",
    "\n"
   ]
  },
  {
   "cell_type": "code",
   "execution_count": 12,
   "metadata": {},
   "outputs": [
    {
     "name": "stdout",
     "output_type": "stream",
     "text": [
      "A: 5.027 cm^2\n"
     ]
    }
   ],
   "source": [
    "P = 10 *10**5 #10bar = 1,000,000Pa\n",
    "A = F2/P\n",
    "print(\"A: %.3f cm^2\" % (A*10**4)) # cm^2"
   ]
  },
  {
   "attachments": {},
   "cell_type": "markdown",
   "metadata": {},
   "source": [
    "If we take about 80% of the calculated area is should give more than enough headroom for the motor. The motor also won't be operating at max torque beacus max torque for a steppor motor is calculated with a static load at essentiall 0rpm. If we assume that the shortest we should realisitcally take for an espresso shot is ~20sec then with a Lead of 5mm, an area of 4cm^2, and a max water volume of 40cc it should take 10 revolutions in 20 sec = .5rps = 30rpm. That is quite slow so the motor should be able to apply max torque even at its fastest brew speed."
   ]
  },
  {
   "cell_type": "code",
   "execution_count": 13,
   "metadata": {},
   "outputs": [
    {
     "name": "stdout",
     "output_type": "stream",
     "text": [
      "F_req: 400.000 N\n"
     ]
    }
   ],
   "source": [
    "P = 10 *10**5 #10bar = 1,000,000Pa\n",
    "A = 4 *(10**(-4)) #4cm^2 = 4m^2\n",
    "#r = .0254\n",
    "#A = np.pi*r**2\n",
    "F_req = P*A\n",
    "print(\"F_req: %.3f N\" % (F_req))"
   ]
  },
  {
   "attachments": {},
   "cell_type": "markdown",
   "metadata": {},
   "source": [
    "Since F2 > F_req the the nema 17 should have enough tourque to generate 10 bar pressure "
   ]
  },
  {
   "cell_type": "code",
   "execution_count": 18,
   "metadata": {},
   "outputs": [
    {
     "name": "stdout",
     "output_type": "stream",
     "text": [
      "2.256758334191025\n",
      "Piston A:\n",
      "  0.0004 m^2\n",
      "   4.000 cm^2\n",
      "Piston D:\n",
      "   2.257 cm\n",
      "   0.888 in\n"
     ]
    }
   ],
   "source": [
    "r = np.sqrt(A/np.pi)\n",
    "print(r*100*2)\n",
    "print(\"Piston A:\\n%8.4f m^2\\n%8.3f cm^2\" % (A,A*10**4))\n",
    "print(\"Piston D:\\n%8.3f cm\\n%8.3f in\" % (r*100*2,r*100*2/2.54))\n"
   ]
  }
 ],
 "metadata": {
  "kernelspec": {
   "display_name": "base",
   "language": "python",
   "name": "python3"
  },
  "language_info": {
   "codemirror_mode": {
    "name": "ipython",
    "version": 3
   },
   "file_extension": ".py",
   "mimetype": "text/x-python",
   "name": "python",
   "nbconvert_exporter": "python",
   "pygments_lexer": "ipython3",
   "version": "3.9.1 | packaged by conda-forge | (default, Dec  9 2020, 01:07:47) \n[Clang 11.0.0 ]"
  },
  "orig_nbformat": 4,
  "vscode": {
   "interpreter": {
    "hash": "41cda4b422bbe30dcf4e15434382319d5e47b57fc574f5883cb464a0d4d55c2a"
   }
  }
 },
 "nbformat": 4,
 "nbformat_minor": 2
}
