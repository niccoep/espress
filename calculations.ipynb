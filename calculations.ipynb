{
 "cells": [
  {
   "cell_type": "code",
   "execution_count": 8,
   "metadata": {},
   "outputs": [],
   "source": [
    "import numpy as np"
   ]
  },
  {
   "attachments": {},
   "cell_type": "markdown",
   "metadata": {},
   "source": [
    "All calculations are done in SI (Newtons, Meters, Pascals). I'm also assuming 100% efficiency for the ball screw torque to linear force conversion but in reality it might be around ~90% efficiency. So we will need some overhead on the motor torque.\n",
    "\n",
    "T = torque applied to bearing in Nm\n",
    "\n",
    "D = diamater of screw\n",
    "\n",
    "\n",
    "\n",
    "    T = F1*D/2\n",
    "\n",
    "    => F1 = 2T/D\n",
    "\n",
    "    F2/F1 = Pi*D/L\n",
    "\n",
    "    L = lead (distance per revolution)\n",
    "\n",
    "    => F2 = F1*Pi*D/L\n",
    "    \n",
    "    F2 = (2T/D)*Pi*D/L\n",
    "\n",
    "    F2 = 2T*Pi/L\n",
    "    \n"
   ]
  },
  {
   "attachments": {},
   "cell_type": "markdown",
   "metadata": {},
   "source": [
    "[Source](https://www.kollmorgen.com/en-us/developer-network/calculating-linear-force-and-torque-ballscrew/)\n",
    "\n",
    "![ballscrew](ballscrew.png)"
   ]
  },
  {
   "cell_type": "code",
   "execution_count": 9,
   "metadata": {},
   "outputs": [
    {
     "name": "stdout",
     "output_type": "stream",
     "text": [
      "F1: 75.000 N\n",
      "F2: 753.982 N\n"
     ]
    }
   ],
   "source": [
    "D = .016 #16mm\n",
    "L = .005 #5mm\n",
    "T = .60 #40Ncm .40Nm\n",
    "\n",
    "F1 = 2*T/D\n",
    "\n",
    "F2 = 2*T*np.pi/(L)\n",
    "print(\"F1: %.3f N\" % (F1))\n",
    "print(\"F2: %.3f N\" % (F2))"
   ]
  },
  {
   "attachments": {},
   "cell_type": "markdown",
   "metadata": {},
   "source": [
    "With F2 we can find the max area of the cylinder while still producing at leas 10 bar\n",
    "\n",
    "    Force = Pressure/Area\n",
    "\n",
    "    A = F/P\n",
    "\n"
   ]
  },
  {
   "cell_type": "code",
   "execution_count": 10,
   "metadata": {},
   "outputs": [
    {
     "name": "stdout",
     "output_type": "stream",
     "text": [
      "A: 7.540 cm^2\n"
     ]
    }
   ],
   "source": [
    "P = 10 *10**5 #10bar = 1,000,000Pa\n",
    "A = F2/P\n",
    "print(\"A: %.3f cm^2\" % (A*10**4)) # cm^2"
   ]
  },
  {
   "attachments": {},
   "cell_type": "markdown",
   "metadata": {},
   "source": [
    "If we take about 80% of the calculated area is should give more than enough headroom for the motor. The motor also won't be operating at max torque beacus max torque for a steppor motor is calculated with a static load at essentiall 0rpm. If we assume that the shortest we should realisitcally take for an espresso shot is ~20sec then with a Lead of 5mm, an area of 4cm^2, and a max water volume of 40cc it should take 10 revolutions in 20 sec = .5rps = 30rpm. That is quite slow so the motor should be able to apply max torque even at its fastest brew speed."
   ]
  },
  {
   "cell_type": "code",
   "execution_count": 11,
   "metadata": {},
   "outputs": [
    {
     "name": "stdout",
     "output_type": "stream",
     "text": [
      "F_req: 603.186 N\n"
     ]
    }
   ],
   "source": [
    "P = 10 *10**5 #10bar = 1,000,000Pa\n",
    "A *= .8\n",
    "#A = 4 *(10**(-4)) #4cm^2 = 4m^2\n",
    "#r = .0254\n",
    "#A = np.pi*r**2\n",
    "F_req = P*A\n",
    "print(\"F_req: %.3f N\" % (F_req))"
   ]
  },
  {
   "attachments": {},
   "cell_type": "markdown",
   "metadata": {},
   "source": [
    "Since F2 > F_req the the nema 17 should have enough tourque to generate 10 bar pressure "
   ]
  },
  {
   "cell_type": "code",
   "execution_count": 12,
   "metadata": {},
   "outputs": [
    {
     "name": "stdout",
     "output_type": "stream",
     "text": [
      "2.7712812921102037\n",
      "Piston A:\n",
      "  0.0006 m^2\n",
      "   6.032 cm^2\n",
      "Piston D:\n",
      "   2.771 cm\n",
      "   1.091 in\n"
     ]
    }
   ],
   "source": [
    "r = np.sqrt(A/np.pi)\n",
    "print(r*100*2)\n",
    "print(\"Piston A:\\n%8.4f m^2\\n%8.3f cm^2\" % (A,A*10**4))\n",
    "print(\"Piston D:\\n%8.3f cm\\n%8.3f in\" % (r*100*2,r*100*2/2.54))"
   ]
  },
  {
   "cell_type": "code",
   "execution_count": 20,
   "metadata": {},
   "outputs": [
    {
     "data": {
      "text/plain": [
       "8.289319952702883"
      ]
     },
     "execution_count": 20,
     "metadata": {},
     "output_type": "execute_result"
    }
   ],
   "source": [
    "50/(A*10**4)"
   ]
  },
  {
   "attachments": {},
   "cell_type": "markdown",
   "metadata": {},
   "source": [
    "Heat energy equation:\n",
    "\n",
    "    Q = m * c * dt\n",
    "\n",
    "Q is the energy in joules required to heat the thing (water). m is the mass. c is the specific heat of the thing. dt is the change in temp\n",
    "\n",
    "Once again we are doing these calculations with 100% efficiency so we will neeed to have quite a bit of overhead to get good results.\n"
   ]
  },
  {
   "cell_type": "code",
   "execution_count": 35,
   "metadata": {},
   "outputs": [
    {
     "name": "stdout",
     "output_type": "stream",
     "text": [
      "Water: 15278 J\n",
      "Steel: 3650 J\n",
      "Total Q: 18928 J\n"
     ]
    }
   ],
   "source": [
    "#water\n",
    "m = 50 #mass g\n",
    "c = 4.186 #specific heat water J/g C\n",
    "dt = 73 #chamge in temp 20C to 93 C\n",
    "Q1 = m*c*dt\n",
    "print(\"Water: %d J\" % (Q1))\n",
    "\n",
    "#316 stainless for cylinder and piston\n",
    "\n",
    "m = 100 #mass g, I got this by multiplying the volume of steel by its density\n",
    "c = .5 #specific heat 316 stainless J/g C\n",
    "dt = 73 #chamge in temp 20C to 93 C\n",
    "Q2 = m*c*dt\n",
    "print(\"Steel: %d J\" % (Q2))\n",
    "totalQ = Q1+Q2\n",
    "print(\"Total Q: %d J\" % (totalQ))\n"
   ]
  },
  {
   "attachments": {},
   "cell_type": "markdown",
   "metadata": {},
   "source": [
    "1J = 1w/s (watt/sec)\n",
    "\n",
    "Im planning on using 40-50W 3d printer cartrige heaters (the ones used to heat the printing element) because they are mega cheap and widley availabel if one breaks/burns out.\n",
    "\n",
    "Initial plan: use 6*50W = 300W of heating\n",
    "\n",
    "Using the heat equation from above I got an amound of joules that are required to heat the water and steel tube. Now if i divide the joules by the watts of the heating elements I get the number of seconds it would take to heat the water at 100% effeciency.\n",
    "\n",
    "j/(j/s) =  s"
   ]
  },
  {
   "cell_type": "code",
   "execution_count": 34,
   "metadata": {},
   "outputs": [
    {
     "name": "stdout",
     "output_type": "stream",
     "text": [
      "63.1 sec\n"
     ]
    }
   ],
   "source": [
    "heat_w = 300 #heating power wats\n",
    "heat_time = totalQ/heat_w\n",
    "print(\"%.1f sec\" % heat_time)"
   ]
  },
  {
   "attachments": {},
   "cell_type": "markdown",
   "metadata": {},
   "source": [
    "I'm going to assume that the heaters wont be 100% efficient so lets call that 1 minute about 1.5 min due to heat loss from the cylinder and electronics"
   ]
  },
  {
   "cell_type": "markdown",
   "metadata": {},
   "source": []
  }
 ],
 "metadata": {
  "kernelspec": {
   "display_name": "base",
   "language": "python",
   "name": "python3"
  },
  "language_info": {
   "codemirror_mode": {
    "name": "ipython",
    "version": 3
   },
   "file_extension": ".py",
   "mimetype": "text/x-python",
   "name": "python",
   "nbconvert_exporter": "python",
   "pygments_lexer": "ipython3",
   "version": "3.9.1"
  },
  "orig_nbformat": 4,
  "vscode": {
   "interpreter": {
    "hash": "41cda4b422bbe30dcf4e15434382319d5e47b57fc574f5883cb464a0d4d55c2a"
   }
  }
 },
 "nbformat": 4,
 "nbformat_minor": 2
}
