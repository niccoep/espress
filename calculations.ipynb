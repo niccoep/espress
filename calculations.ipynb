{
 "cells": [
  {
   "cell_type": "code",
   "execution_count": 74,
   "metadata": {},
   "outputs": [],
   "source": [
    "import numpy as np"
   ]
  },
  {
   "cell_type": "code",
   "execution_count": 75,
   "metadata": {},
   "outputs": [
    {
     "name": "stdout",
     "output_type": "stream",
     "text": [
      "Force: 40.0 N\n",
      "Area: 0.0004\n"
     ]
    }
   ],
   "source": [
    "#this cell gives the piston F based on A and P (Force,Area,Pressure)(N,m^2,Pa)\n",
    "\n",
    "#P = F/A\n",
    "#1bar = 100,000 pascals\n",
    "#max brew 10 bar = 1,000,000 = 1 Mpascal\n",
    "\n",
    "P = 1 *10**5 #Pa\n",
    "#r = .0254\n",
    "#A = np.pi*r**2\n",
    "A = 4 *(10**(-4)) #m^2\n",
    "F = P*A\n",
    "print(\"Force:\",F,\"N\")\n",
    "print(\"Area:\",A)\n"
   ]
  },
  {
   "cell_type": "code",
   "execution_count": 76,
   "metadata": {},
   "outputs": [
    {
     "name": "stdout",
     "output_type": "stream",
     "text": [
      "Torque: 0.0353677651315323 Nm\n",
      "Torque: 3.5367765131532303 Ncm\n"
     ]
    }
   ],
   "source": [
    "Fa = F #N\n",
    "Pitch = 5 #mm\n",
    "eta = .90 #efficiency\n",
    "\n",
    "Td = (Fa*Pitch)/(2000*np.pi*eta)\n",
    "print(\"Torque:\",Td,\"Nm\") #Nm\n",
    "print(\"Torque:\",Td*100,\"Ncm\") #Ncm"
   ]
  },
  {
   "cell_type": "code",
   "execution_count": 77,
   "metadata": {},
   "outputs": [
    {
     "name": "stdout",
     "output_type": "stream",
     "text": [
      "0.0004000000000000001\n"
     ]
    }
   ],
   "source": [
    "Td_nema = 40 *10**-2\n",
    "Fa = Td*(2000*np.pi*eta)/Pitch\n",
    "A_calculated = Fa/P\n",
    "print(A_calculated)"
   ]
  },
  {
   "cell_type": "code",
   "execution_count": 81,
   "metadata": {},
   "outputs": [
    {
     "name": "stdout",
     "output_type": "stream",
     "text": [
      "length: 124.99999999999999\n",
      "turns: 24.999999999999996\n"
     ]
    }
   ],
   "source": [
    "V_brew = 50*(10**-3) #Liters\n",
    "L = V_brew/A_calculated\n",
    "print(\"length:\",L)\n",
    "print(\"turns:\",L/Pitch)"
   ]
  },
  {
   "cell_type": "code",
   "execution_count": 79,
   "metadata": {},
   "outputs": [
    {
     "name": "stdout",
     "output_type": "stream",
     "text": [
      "r in: 0.44424376657303644\n",
      "r cm: 1.1283791670955126\n"
     ]
    },
    {
     "data": {
      "text/plain": [
       "0.00039999999999999996"
      ]
     },
     "execution_count": 79,
     "metadata": {},
     "output_type": "execute_result"
    }
   ],
   "source": [
    "r = np.sqrt(A/np.pi)\n",
    "print(\"r in:\",r*100/2.54)\n",
    "print(\"r cm:\", r*100)\n",
    "\n",
    "\n",
    "np.pi*(r**2)"
   ]
  },
  {
   "cell_type": "code",
   "execution_count": 80,
   "metadata": {},
   "outputs": [
    {
     "data": {
      "text/plain": [
       "49.21259842519685"
      ]
     },
     "execution_count": 80,
     "metadata": {},
     "output_type": "execute_result"
    }
   ],
   "source": [
    "L/2.54"
   ]
  },
  {
   "cell_type": "code",
   "execution_count": null,
   "metadata": {},
   "outputs": [],
   "source": []
  }
 ],
 "metadata": {
  "kernelspec": {
   "display_name": "Python 3.9.1 ('base')",
   "language": "python",
   "name": "python3"
  },
  "language_info": {
   "codemirror_mode": {
    "name": "ipython",
    "version": 3
   },
   "file_extension": ".py",
   "mimetype": "text/x-python",
   "name": "python",
   "nbconvert_exporter": "python",
   "pygments_lexer": "ipython3",
   "version": "3.9.1 | packaged by conda-forge | (default, Dec  9 2020, 01:07:47) \n[Clang 11.0.0 ]"
  },
  "orig_nbformat": 4,
  "vscode": {
   "interpreter": {
    "hash": "41cda4b422bbe30dcf4e15434382319d5e47b57fc574f5883cb464a0d4d55c2a"
   }
  }
 },
 "nbformat": 4,
 "nbformat_minor": 2
}
